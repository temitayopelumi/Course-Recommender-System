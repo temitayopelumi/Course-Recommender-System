{
 "cells": [
  {
   "cell_type": "code",
   "execution_count": 1,
   "metadata": {},
   "outputs": [],
   "source": [
    "import pandas as pd\n",
    "import numpy as np\n",
    "import seaborn as sns\n",
    "import matplotlib.pyplot as plt\n",
    "sns.set(style = \"darkgrid\")\n",
    "\n",
    "%matplotlib inline\n",
    "pd.set_option('display.max_rows', None)"
   ]
  },
  {
   "cell_type": "code",
   "execution_count": 2,
   "metadata": {
    "scrolled": true
   },
   "outputs": [],
   "source": [
    "course_unit = pd.read_csv(\"CSC courses & units - courses_table.csv\")"
   ]
  },
  {
   "cell_type": "code",
   "execution_count": 3,
   "metadata": {},
   "outputs": [],
   "source": [
    "courses_dict = {\n",
    "    \"P2_1_ENGR\": [\"CPE 203\", \"CHE 201\", \"MSE 201\", \"MEE 205\", \"EEE 201\", \"EEE 291\"],\n",
    "    \"P2_1_ECN\": [\"CPE 203\", \"ECN 203\", \"ECN 201\", \"MTH 201\", \"MEE 203\", \"CSC 201\"],\n",
    "    \"P2_1_MTH\": [\"CPE 203\", \"MTH 205\", \"STT 201\", \"MTH 201\", \"MEE 203\", \"CSC 201\"],\n",
    "    \"P2_2_ENGR\": [\"CPE 204\", \"CSC 202\", \"AGE 202\", \"CVE 202\", \"MEE 206\", \"MEE 204\", \"EEE 202\", \"EEE 292\", \"MTH 202\"],\n",
    "    \"P2_2_ECN\": [\"CPE 204\", \"CPE 206\", \"ECN 204\", \"ECN 202\", \"MTH 202\", \"MEE 204\", \"CSC 202\"],\n",
    "    \"P2_2_MTH\": [\"CPE 204\", \"CPE 206\", \"MTH 306\", \"STT 202\", \"MTH 202\", \"MEE 204\", \"CSC 202\"],\n",
    "    \"P3_1_ENGR\": [\"CPE 301\", \"CPE 303\", \"CPE 307\", \"CPE 309\", \"EEE 301\", \"EEE 309\", \"MEE 303\", \"MSE 201\", \"CHE 305\"],\n",
    "    \"P3_1_ECN\": [\"CPE 301\", \"CSC 307\", \"CSC 305\", \"CSC 311\", \"CSC 315\", \"CSC 317\", \"ECN 301\", \"ECN 313\"],\n",
    "    \"P3_1_MTH\": [\"CPE 301\", \"CSC 307\", \"CSC 305\", \"CSC 311\", \"CSC 315\", \"CSC 317\", \"MTH 301\"],\n",
    "    \"P3_2_ENGR\": [\"CSC 302\", \"CSC 306\", \"CSC 308\", \"CPE 310\", \"CPE 316\", \"CPE 314\", \"EEE 302\", \"CHE 306\", \"AGE 302\"],\n",
    "    \"P3_2_ECN\": [\"CSC 302\", \"CSC 306\", \"CSC 308\", \"CPE 310\", \"CPE 316\", \"CSC 304\", \"CSC 312\", \"ECN 302\", \"ECN 314\"],\n",
    "    \"P3_2_MTH\": [\"CSC 302\", \"CSC 306\", \"CSC 308\", \"CPE 310\", \"CPE 316\", \"CSC 304\", \"CSC 312\", \"MTH 302\"],\n",
    "    \"P4_1_ENGR\": [\"CPE 401\", \"CPE 405\", \"CSC 403\", \"CSC 415\", \"CPE 409\", \"CVE 401\"],\n",
    "    \"P4_1_ECN\": [\"CPE 401\", \"CPE 405\", \"CSC 403\", \"CSC 415\", \"CSC 407\", \"ECN 401\", \"ECN 421\", \"CVE 401\"], \n",
    "    \"P4_1_MTH\": [\"CPE 401\", \"CPE 405\", \"CSC 403\", \"CSC 415\", \"MTH207\", \"CVE 401\"]\n",
    "}"
   ]
  },
  {
   "cell_type": "code",
   "execution_count": 4,
   "metadata": {},
   "outputs": [],
   "source": [
    "# depends on what Tayo wants to do, either to accept or anything else\n",
    "# this is just a demo\n",
    "\n",
    "part = 3\n",
    "sem = 2\n",
    "option = \"Engineering\"\n",
    "Last_CGPA = 3.2"
   ]
  },
  {
   "cell_type": "code",
   "execution_count": 5,
   "metadata": {},
   "outputs": [],
   "source": [
    "if (part == 2) and (sem == 1) and (option == \"Engineering\"):\n",
    "    course_by_student = courses_dict.get('P2_1_ENGR')\n",
    "elif part == 2 and sem == 2 and option == \"Engineering\":\n",
    "    course_by_student = courses_dict.get('P2_2_ENGR')\n",
    "\n",
    "elif part == 2 and sem == 1 and option == \"Economics\":\n",
    "    course_by_student = courses_dict.get('P2_1_ECN')\n",
    "elif part == 2 and sem == 2 and option == \"Economics\":\n",
    "    course_by_student = courses_dict.get('P2_2_ECN')\n",
    "\n",
    "elif part == 2 and sem == 1 and option == \"Maths\":\n",
    "    course_by_student = courses_dict.get('P2_1_MTH')\n",
    "elif part == 2 and sem == 2 and option == \"Maths\":\n",
    "    course_by_student = courses_dict.get('P2_2_MTH')\n",
    "\n",
    "# for part 3    \n",
    "elif part == 3 and sem == 1 and option == \"Engineering\":\n",
    "    course_by_student = courses_dict.get('P3_1_ENGR')\n",
    "elif part == 3 and sem == 2 and option == \"Engineering\":\n",
    "    course_by_student = courses_dict.get('P3_2_ENGR')\n",
    "\n",
    "elif part == 3 and sem == 1 and option == \"Economics\":\n",
    "    course_by_student = courses_dict.get('P3_1_ECN')\n",
    "elif part == 3 and sem == 2 and option == \"Economics\":\n",
    "    course_by_student = courses_dict.get('P3_2_ECN')\n",
    "\n",
    "elif part == 3 and sem == 1 and option == \"Maths\":\n",
    "    course_by_student = courses_dict.get('P3_1_MTH')\n",
    "elif part == 3 and sem == 2 and option == \"Maths\":\n",
    "    course_by_student = courses_dict.get('P3_2_MTH')\n",
    "\n",
    "\n",
    "# for part 4\n",
    "elif part == 4 and sem == 1 and option == \"Engineering\":\n",
    "    course_by_student = courses_dict.get('P4_1_ENGR')\n",
    "\n",
    "elif part == 4 and sem == 1 and option == \"Economics\":\n",
    "    course_by_student = courses_dict.get('P4_1_ECN')\n",
    "\n",
    "elif part == 4 and sem == 1 and option == \"Maths\":\n",
    "    course_by_student = courses_dict.get('P4_1_MTH')\n",
    "        \n",
    "\n",
    "        \n"
   ]
  },
  {
   "cell_type": "code",
   "execution_count": 6,
   "metadata": {},
   "outputs": [],
   "source": [
    "# we are sorting because we want it to start from the least units\n",
    "\n",
    "u = [course_unit[course_unit[\"Course\"]== i][\"Unit\"].tolist() for i in course_by_student]\n",
    "flat_list_u = [item for sublist in u for item in sublist]\n",
    "df = pd.DataFrame({\"courses\": course_by_student, \"Units\": flat_list_u}).sort_values(by = \"Units\")"
   ]
  },
  {
   "cell_type": "code",
   "execution_count": 7,
   "metadata": {},
   "outputs": [
    {
     "name": "stdout",
     "output_type": "stream",
     "text": [
      "The required course you should register for this semester are: ['AGE 302', 'EEE 302', 'CHE 306', 'CPE 314', 'CSC 308', 'CPE 310', 'CPE 316', 'CSC 302']\n",
      "With total units of: [18]\n"
     ]
    }
   ],
   "source": [
    "\n",
    "if Last_CGPA < 3.5:\n",
    "    valid = []\n",
    "    others = []\n",
    "    \n",
    "    for i in df[\"courses\"]:\n",
    "        if i[:3] == \"CSC\" or i[:3] == \"CPE\":\n",
    "            others.append(i)\n",
    "        else:\n",
    "            valid.append(i)\n",
    "    \n",
    "    units = []\n",
    "    flat_list = []\n",
    "    rem_course = []  \n",
    "\n",
    "\n",
    "    for i in valid:\n",
    "        units.append(course_unit[course_unit[\"Course\"]== i][\"Unit\"].tolist())\n",
    "\n",
    "    flat_list = [item for sublist in units for item in sublist]\n",
    "    units_sum = sum(flat_list)\n",
    "\n",
    "    if units_sum < 20:\n",
    "        \n",
    "        \n",
    "        for i in others:\n",
    "                unit = course_unit[course_unit[\"Course\"]== i][\"Unit\"].tolist()\n",
    "                units_sum = np.add(units_sum, unit)\n",
    "                rem_course.append(i)\n",
    "                if units_sum + unit > 20:\n",
    "                    break\n",
    "                elif units_sum < 20:\n",
    "                    continue\n",
    "                    \n",
    "                \n",
    "        required_courses = valid + rem_course\n",
    "        print(\"The required course you should register for this semester are:\",required_courses)\n",
    "        print(\"With total units of:\",units_sum)\n",
    "        \n",
    "        \n",
    "\n",
    "    else:\n",
    "        print(valid)\n",
    "        print(\"With total units of:\",units_sum)\n",
    "\n",
    "\n",
    "\n",
    "    \n",
    "    \n",
    "    \n",
    "else:\n",
    "    print(\"You can go ahead to register for all your courses\")"
   ]
  },
  {
   "cell_type": "code",
   "execution_count": null,
   "metadata": {},
   "outputs": [],
   "source": []
  }
 ],
 "metadata": {
  "kernelspec": {
   "display_name": "Python 3",
   "language": "python",
   "name": "python3"
  },
  "language_info": {
   "codemirror_mode": {
    "name": "ipython",
    "version": 3
   },
   "file_extension": ".py",
   "mimetype": "text/x-python",
   "name": "python",
   "nbconvert_exporter": "python",
   "pygments_lexer": "ipython3",
   "version": "3.7.3"
  }
 },
 "nbformat": 4,
 "nbformat_minor": 2
}
